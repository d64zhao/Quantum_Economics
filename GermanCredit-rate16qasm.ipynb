{
 "cells": [
  {
   "cell_type": "code",
   "execution_count": 1,
   "id": "5fc30773-0ede-4b87-9d2b-fe3528260ec1",
   "metadata": {},
   "outputs": [
    {
     "name": "stderr",
     "output_type": "stream",
     "text": [
      "<frozen importlib._bootstrap>:219: RuntimeWarning: scipy._lib.messagestream.MessageStream size changed, may indicate binary incompatibility. Expected 56 from C header, got 64 from PyObject\n"
     ]
    }
   ],
   "source": [
    "# Test on German Credit Dataset using the QASM backend simulator\n",
    "import numpy as np\n",
    "from qiskit import QuantumCircuit, transpile, Aer, IBMQ\n",
    "from qiskit.tools.jupyter import *\n",
    "from qiskit.visualization import *\n",
    "from ibm_quantum_widgets import *\n",
    "\n",
    "provider = IBMQ.load_account()\n",
    "import matplotlib.pyplot as plt\n",
    "\n",
    "from sklearn.svm import SVC\n",
    "from sklearn.cluster import SpectralClustering\n",
    "from sklearn.metrics import normalized_mutual_info_score\n",
    "\n",
    "from qiskit import BasicAer\n",
    "from qiskit.circuit.library import ZZFeatureMap\n",
    "from qiskit.circuit.library import ZFeatureMap\n",
    "from qiskit.utils import QuantumInstance, algorithm_globals\n",
    "from qiskit_machine_learning.algorithms import QSVC\n",
    "from qiskit_machine_learning.kernels import QuantumKernel\n",
    "from qiskit_machine_learning.datasets import ad_hoc_data\n",
    "import time\n",
    "seed = 12345\n",
    "algorithm_globals.random_seed = seed\n",
    "import pandas as pd\n",
    "from sklearn.preprocessing import StandardScaler, MinMaxScaler\n",
    "from sklearn.decomposition import  PCA\n",
    "from sklearn.model_selection import train_test_split\n",
    "\n",
    "from qiskit.providers.ibmq import least_busy\n",
    "\n",
    "\n",
    "# In[3]:\n",
    "# prepare to send standard output to a text file\n",
    "import sys\n",
    "\n",
    "orig_stdout = sys.stdout\n",
    "fl1 = open('out_pca16qasm.csv', 'w')\n",
    "sys.stdout = fl1\n"
   ]
  },
  {
   "cell_type": "code",
   "execution_count": 2,
   "id": "21270497-802d-40c8-a3c0-eb0801c21a47",
   "metadata": {},
   "outputs": [],
   "source": [
    "#balanced data preparation\n",
    "credit=pd.read_csv('German_Preprocessed.csv').sample(frac=1,random_state=3)\n",
    "credit = credit.groupby('classification').head(300).sample(frac=1,random_state=3)\n",
    "X_or, y_or = credit.drop('classification',axis=1).values, credit.classification.squeeze().values\n",
    "y_or=[i if i ==1 else 0 for i in y_or]\n",
    "X_train=X_or[:500,:]\n",
    "X_test=X_or[500:,:]\n",
    "Y_train=y_or[:500]\n",
    "Y_test=y_or[500:]\n",
    "scaler = MinMaxScaler(feature_range=(-1,1))\n",
    "X_train=scaler.fit_transform(X_train)\n",
    "X_test=scaler.transform(X_test)\n",
    "\n",
    "# In[4]:\n",
    "\n",
    "def get_acc(dim,reps,cost,classic=False,verbose=True,returnAll=False,   maps='ZZ',ent='full',random_state=3,simulator='statevector_simulator',is_final='False',        use_pca=True):\n",
    "    time0=time.time()\n",
    "    scaler = MinMaxScaler(feature_range=(-1,1))\n",
    "    X=X_train.copy()\n",
    "    y=Y_train.copy()\n",
    "    if maps=='ZZ':\n",
    "        adhoc_feature_map = ZZFeatureMap(feature_dimension=dim, \n",
    "                                         reps=reps, entanglement=ent)\n",
    "    else:\n",
    "        adhoc_feature_map = ZFeatureMap(feature_dimension=dim, \n",
    "                                         reps=reps)\n",
    "    #get backend: qasm or statevector. shots useless for statevector\n",
    "    adhoc_backend = QuantumInstance(BasicAer.get_backend(simulator), shots=512,\n",
    "                                    seed_simulator=seed, seed_transpiler=seed)\n",
    "    adhoc_kernel = QuantumKernel(feature_map=adhoc_feature_map, quantum_instance=adhoc_backend)\n",
    "\n",
    "    #usiamo solo n/1000 osservazioni\n",
    "    if is_final==True:\n",
    "        train_x, test_x, train_y, test_y= X,X_test.copy(),y,Y_test.copy()\n",
    "    else:\n",
    "        train_x, test_x, train_y, test_y = train_test_split(X, y, test_size=0.2,random_state=random_state)\n",
    "    if use_pca==True:\n",
    "        pca = PCA(dim)\n",
    "        train_x=pca.fit_transform(train_x)\n",
    "        test_x=pca.transform(test_x)\n",
    "        scaler2=MinMaxScaler(feature_range=(-1,1))\n",
    "        train_x=scaler2.fit_transform(train_x)\n",
    "        test_x=scaler2.transform(test_x)\n",
    "    print(pca.explained_variance_)\n",
    "\n",
    "    if is_final==True:\n",
    "        print(f'Train x {train_x.shape} and train y {len(train_y)}')\n",
    "        print(f'Test x {test_x.shape} and test y {len(test_y)}')\n",
    "    adhoc_svc = SVC(C=cost,kernel=adhoc_kernel.evaluate)\n",
    "    if classic==True:\n",
    "        adhoc_svc = SVC(C=cost,kernel='rbf')\n",
    "    adhoc_svc.fit(train_x, train_y)\n",
    "    adhoc_score = adhoc_svc.score(test_x, test_y)\n",
    "    adhoc_score_train = adhoc_svc.score(train_x, train_y)\n",
    "    time1=time.time()\n",
    "    if verbose:\n",
    "        print(f'Total time:{\"{:.2}\".format(time1-time0)}\\n        Callable kernel classification test score: {adhoc_score}\\n        Callable kernel classification train score: {adhoc_score_train}\\n        Parameters: PCA {dim}, reps {reps},cost {cost}\\n        total of 1s: {sum(y)/len(y)}\\n\\n')\n",
    "    if returnAll:\n",
    "        return train_x,train_y,test_x, test_y, adhoc_svc,adhoc_score, adhoc_score_train\n",
    "    else:\n",
    "        return adhoc_score, adhoc_score_train\n",
    "\n"
   ]
  },
  {
   "cell_type": "code",
   "execution_count": 3,
   "id": "4b26f997-0131-402b-9a7d-e4753b4fdc91",
   "metadata": {},
   "outputs": [],
   "source": [
    "# In[5]:\n",
    "\n",
    "\n",
    "acc_classica=[]\n",
    "acc_quant_zz_full_1=[]\n",
    "acc_quant_zz_full_2=[]\n",
    "acc_quant_zz_linear_1=[]\n",
    "acc_quant_zz_linear_2=[]\n",
    "acc_quant_z_1=[]\n",
    "acc_quant_z_2=[]\n",
    "pca=[2,3,4,6,8,10,12,16]\n",
    "pca=[16]\n",
    "list_cost=np.logspace(-1,1,5)\n",
    "# pca=[2,3,4,6,8,10,12]\n",
    "# list_cost=np.logspace(2,5,20)\n",
    "\n"
   ]
  },
  {
   "cell_type": "code",
   "execution_count": 4,
   "id": "4e1d7d55-be4a-476c-b31d-24e6a23831b2",
   "metadata": {},
   "outputs": [
    {
     "data": {
      "text/plain": [
       "[16]"
      ]
     },
     "execution_count": 4,
     "metadata": {},
     "output_type": "execute_result"
    }
   ],
   "source": [
    "pca\n"
   ]
  },
  {
   "cell_type": "code",
   "execution_count": null,
   "id": "ba0221cb-0f0c-41e4-bbfa-b43abe179a78",
   "metadata": {},
   "outputs": [],
   "source": [
    "#accuracy zfeaturemap 1 rep qasm\n",
    "acc_quant_z_1_qasm=[]\n",
    "for i in pca:\n",
    "    lista_tmp=[]\n",
    "    for c in list_cost:\n",
    "        lista_cv=[]\n",
    "        for y in [3]:\n",
    "            lista_cv.append(get_acc(i,1,c,classic=False,verbose=True,simulator='qasm_simulator',maps='Z',random_state=y)[0])\n",
    "        lista_tmp.append(np.mean(lista_cv))\n",
    "    cost_value=list_cost[np.argmax(lista_tmp)]\n",
    "    acc_quant_z_1_qasm.append(get_acc(i,1,cost_value,classic=False,verbose=True,simulator='qasm_simulator',maps='Z',        random_state=y,is_final=True)[0])\n",
    "# reset the original stdout and close the output file\n",
    "sys.stdout = orig_stdout\n",
    "f.close()"
   ]
  },
  {
   "cell_type": "code",
   "execution_count": null,
   "id": "3a281355-6756-485b-a1c5-d050a46f8eae",
   "metadata": {},
   "outputs": [],
   "source": []
  }
 ],
 "metadata": {
  "kernelspec": {
   "display_name": "Qiskit v0.35.0 (ipykernel)",
   "language": "python",
   "name": "python3"
  },
  "language_info": {
   "codemirror_mode": {
    "name": "ipython",
    "version": 3
   },
   "file_extension": ".py",
   "mimetype": "text/x-python",
   "name": "python",
   "nbconvert_exporter": "python",
   "pygments_lexer": "ipython3",
   "version": "3.9.13"
  },
  "widgets": {
   "application/vnd.jupyter.widget-state+json": {
    "state": {
     "0dc085bb90af470c830a2e228011861b": {
      "model_module": "@jupyter-widgets/base",
      "model_module_version": "1.2.0",
      "model_name": "LayoutModel",
      "state": {
       "grid_template_areas": "\n                                       \". . . . right \"\n                                        ",
       "grid_template_columns": "20% 20% 20% 20% 20%",
       "width": "100%"
      }
     },
     "0ebc882b3e954c5b88635cdd818ba6a4": {
      "model_module": "@jupyter-widgets/base",
      "model_module_version": "1.2.0",
      "model_name": "LayoutModel",
      "state": {
       "width": "95px"
      }
     },
     "1b4636fd53894699a550b95b82c308a5": {
      "model_module": "@jupyter-widgets/base",
      "model_module_version": "1.2.0",
      "model_name": "LayoutModel",
      "state": {
       "margin": "0px 0px 10px 0px"
      }
     },
     "281b55f5017f4799b9ee3fdae3267988": {
      "model_module": "@jupyter-widgets/controls",
      "model_module_version": "1.5.0",
      "model_name": "HTMLModel",
      "state": {
       "layout": "IPY_MODEL_1b4636fd53894699a550b95b82c308a5",
       "style": "IPY_MODEL_a4ebe3d8bde94666a97de138a0198140",
       "value": "<p style='font-family: IBM Plex Sans, Arial, Helvetica, sans-serif; font-size: 20px; font-weight: medium;'>Circuit Properties</p>"
      }
     },
     "28c79d6178144a4bb96d4887de64d696": {
      "model_module": "@jupyter-widgets/controls",
      "model_module_version": "1.5.0",
      "model_name": "DescriptionStyleModel",
      "state": {
       "description_width": ""
      }
     },
     "393a60b57bc44536966cac803dc840b2": {
      "model_module": "@jupyter-widgets/controls",
      "model_module_version": "1.5.0",
      "model_name": "DescriptionStyleModel",
      "state": {
       "description_width": ""
      }
     },
     "3ea6df3658d5449d841a571820cf242a": {
      "model_module": "@jupyter-widgets/base",
      "model_module_version": "1.2.0",
      "model_name": "LayoutModel",
      "state": {
       "grid_area": "right",
       "padding": "0px 0px 0px 0px",
       "width": "70px"
      }
     },
     "50f21d4e72474a819d10c3fd2bb1bfea": {
      "model_module": "@jupyter-widgets/controls",
      "model_module_version": "1.5.0",
      "model_name": "DescriptionStyleModel",
      "state": {
       "description_width": ""
      }
     },
     "5480bbd6ca5049cfb5e47e36f776a733": {
      "model_module": "@jupyter-widgets/controls",
      "model_module_version": "1.5.0",
      "model_name": "GridBoxModel",
      "state": {
       "children": [
        "IPY_MODEL_c93046c7fbf346aaa47eed7465b549dd"
       ],
       "layout": "IPY_MODEL_0dc085bb90af470c830a2e228011861b"
      }
     },
     "6f2600a355e147a6a3559800a1559891": {
      "model_module": "@jupyter-widgets/base",
      "model_module_version": "1.2.0",
      "model_name": "LayoutModel",
      "state": {
       "width": "70px"
      }
     },
     "700ea585ffe0433dbeb50a4ce5a9a4e1": {
      "model_module": "@jupyter-widgets/base",
      "model_module_version": "1.2.0",
      "model_name": "LayoutModel",
      "state": {}
     },
     "8e52401e25024131aaba41482883c552": {
      "model_module": "@jupyter-widgets/controls",
      "model_module_version": "1.5.0",
      "model_name": "HTMLModel",
      "state": {
       "layout": "IPY_MODEL_700ea585ffe0433dbeb50a4ce5a9a4e1",
       "style": "IPY_MODEL_28c79d6178144a4bb96d4887de64d696",
       "value": "<h5>Message</h5>"
      }
     },
     "8eddec55ae824b2a8a9341b179ed3497": {
      "model_module": "@jupyter-widgets/controls",
      "model_module_version": "1.5.0",
      "model_name": "DescriptionStyleModel",
      "state": {
       "description_width": ""
      }
     },
     "a0b3e7bca458435fb14033b0cf789fa4": {
      "model_module": "@jupyter-widgets/controls",
      "model_module_version": "1.5.0",
      "model_name": "HTMLModel",
      "state": {
       "layout": "IPY_MODEL_6f2600a355e147a6a3559800a1559891",
       "style": "IPY_MODEL_eea3b87f4eca43f39554031925b24dbf",
       "value": "<h5>Queue</h5>"
      }
     },
     "a252f1d978fc4b87b4ab0888ae3c340b": {
      "model_module": "@jupyter-widgets/base",
      "model_module_version": "1.2.0",
      "model_name": "LayoutModel",
      "state": {
       "margin": "0px 0px 0px 37px",
       "width": "600px"
      }
     },
     "a39fc497c13d4d829b3f12e59a1923a4": {
      "model_module": "@jupyter-widgets/controls",
      "model_module_version": "1.5.0",
      "model_name": "HTMLModel",
      "state": {
       "layout": "IPY_MODEL_0ebc882b3e954c5b88635cdd818ba6a4",
       "style": "IPY_MODEL_8eddec55ae824b2a8a9341b179ed3497",
       "value": "<h5>Status</h5>"
      }
     },
     "a4ebe3d8bde94666a97de138a0198140": {
      "model_module": "@jupyter-widgets/controls",
      "model_module_version": "1.5.0",
      "model_name": "DescriptionStyleModel",
      "state": {
       "description_width": ""
      }
     },
     "a527b06784904e3ea2d320049efb7c72": {
      "model_module": "@jupyter-widgets/base",
      "model_module_version": "1.2.0",
      "model_name": "LayoutModel",
      "state": {
       "width": "145px"
      }
     },
     "a7c6f9286e3145f9b0428ac37f97c89d": {
      "model_module": "@jupyter-widgets/controls",
      "model_module_version": "1.5.0",
      "model_name": "ButtonStyleModel",
      "state": {}
     },
     "bf63e7f1663246c8afaa6f12f33cdf14": {
      "model_module": "@jupyter-widgets/base",
      "model_module_version": "1.2.0",
      "model_name": "LayoutModel",
      "state": {
       "width": "190px"
      }
     },
     "c93046c7fbf346aaa47eed7465b549dd": {
      "model_module": "@jupyter-widgets/controls",
      "model_module_version": "1.5.0",
      "model_name": "ButtonModel",
      "state": {
       "button_style": "primary",
       "description": "Clear",
       "layout": "IPY_MODEL_3ea6df3658d5449d841a571820cf242a",
       "style": "IPY_MODEL_a7c6f9286e3145f9b0428ac37f97c89d"
      }
     },
     "d0856bb1324a4e6e9a73897fc1538386": {
      "model_module": "@jupyter-widgets/controls",
      "model_module_version": "1.5.0",
      "model_name": "HTMLModel",
      "state": {
       "layout": "IPY_MODEL_a527b06784904e3ea2d320049efb7c72",
       "style": "IPY_MODEL_50f21d4e72474a819d10c3fd2bb1bfea",
       "value": "<h5>Backend</h5>"
      }
     },
     "e17351d4fcc24d7db35b0122a70e4017": {
      "model_module": "@jupyter-widgets/controls",
      "model_module_version": "1.5.0",
      "model_name": "HTMLModel",
      "state": {
       "layout": "IPY_MODEL_bf63e7f1663246c8afaa6f12f33cdf14",
       "style": "IPY_MODEL_393a60b57bc44536966cac803dc840b2",
       "value": "<h5>Job ID</h5>"
      }
     },
     "eea3b87f4eca43f39554031925b24dbf": {
      "model_module": "@jupyter-widgets/controls",
      "model_module_version": "1.5.0",
      "model_name": "DescriptionStyleModel",
      "state": {
       "description_width": ""
      }
     },
     "f13a686f6c17477799f7aa834a8f1e99": {
      "model_module": "@jupyter-widgets/controls",
      "model_module_version": "1.5.0",
      "model_name": "HBoxModel",
      "state": {
       "children": [
        "IPY_MODEL_e17351d4fcc24d7db35b0122a70e4017",
        "IPY_MODEL_d0856bb1324a4e6e9a73897fc1538386",
        "IPY_MODEL_a39fc497c13d4d829b3f12e59a1923a4",
        "IPY_MODEL_a0b3e7bca458435fb14033b0cf789fa4",
        "IPY_MODEL_8e52401e25024131aaba41482883c552"
       ],
       "layout": "IPY_MODEL_a252f1d978fc4b87b4ab0888ae3c340b"
      }
     }
    },
    "version_major": 2,
    "version_minor": 0
   }
  }
 },
 "nbformat": 4,
 "nbformat_minor": 5
}
